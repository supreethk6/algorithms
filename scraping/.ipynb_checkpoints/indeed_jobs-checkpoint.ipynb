{
 "cells": [
  {
   "cell_type": "code",
   "execution_count": 1,
   "metadata": {},
   "outputs": [],
   "source": [
    "import urllib\n",
    "import requests\n",
    "from bs4 import BeautifulSoup\n",
    "import selenium\n",
    "from selenium import webdriver\n",
    "from selenium.webdriver.support.ui import WebDriverWait\n",
    "import pandas as pd\n",
    "import os"
   ]
  },
  {
   "cell_type": "markdown",
   "metadata": {},
   "source": [
    "### Extracting the initial HTML data:\n",
    "- Indeed had a standardised format for URL, which would make the web scraping easier. The URL was ‘indeed.com/jobs?’ followed by ‘q=job title’ & ‘l=location’ \n",
    "- This made tailoring the job title and location pretty easy. Then create a function that would take in job title and location as arguments, so that anybody could tailor the search\n",
    "- Using the **urlencode** function from **urllib** enabled to slot the arguments in to create the full url. Including ‘fromage=list’ and ‘sort=date’ within the URL, so that only the most recent jobs were displayed.\n",
    "- With the help of **BeautifulSoup**, extract the HTML and parse it appropriately.\n",
    "- And lastly, find the appropriate <div> that contained all of the job listings. One can find this by opening the URL (indeed.com/jobs?q=robotics+software+engineer&l=sunnyvale) and using the ‘Inspect’ element. With this, one could see that <td id=“resultsCol”> contained all of the job listings, so used soup.find(id=“resultsCol”) to select all of these jobs."
   ]
  },
  {
   "cell_type": "code",
   "execution_count": 2,
   "metadata": {},
   "outputs": [],
   "source": [
    "def load_indeed_jobs_div(job_title, location):\n",
    "    getVars = {'q':job_title, 'l':location, 'fromage':'last', 'sort':'data'}\n",
    "    url = ('https://www.indeed.com/jobs?' + urllib.parse.urlencode(gerVars))\n",
    "    page = requests.get(url)\n",
    "    soup = BeautifulSoup(page.content, \"html.parser\")\n",
    "    job_soup = soup.find(id=\"resultsCol\")\n",
    "    return job_soup"
   ]
  },
  {
   "cell_type": "code",
   "execution_count": null,
   "metadata": {},
   "outputs": [],
   "source": []
  }
 ],
 "metadata": {
  "kernelspec": {
   "display_name": "Python 3",
   "language": "python",
   "name": "python3"
  },
  "language_info": {
   "codemirror_mode": {
    "name": "ipython",
    "version": 3
   },
   "file_extension": ".py",
   "mimetype": "text/x-python",
   "name": "python",
   "nbconvert_exporter": "python",
   "pygments_lexer": "ipython3",
   "version": "3.7.8"
  }
 },
 "nbformat": 4,
 "nbformat_minor": 4
}
